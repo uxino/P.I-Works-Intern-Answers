{
 "cells": [
  {
   "cell_type": "code",
   "execution_count": 1,
   "id": "2a9068e2",
   "metadata": {},
   "outputs": [
    {
     "name": "stdout",
     "output_type": "stream",
     "text": [
      "['txh67.dia_meter.com']\n"
     ]
    }
   ],
   "source": [
    "import pandas as pd\n",
    "import re\n",
    "\n",
    "#Code Implementation Task: Implement code to list the top-3 countries with highest median daily vaccination numbers by considering missing values imputed version of dataset.\n",
    "\n",
    "data={\n",
    "    \"Device_Type\": [\"AXO145\",\"TRU151\",\"ZOD231\",\"YRT326\",\"LWR245\"],\n",
    "    \"Stats_Access_Link\":[\"<url>https://xcd32112.smart_meter.com</url>\",\"<url>http://txh67.dia_meter.com</url>\",\"<url>http://yT5495.smart_meter.com</url>\",\"<url>https://ret323_ TRu.crown.com</url>\",\"<url>https://luwr3243.celcius.com</url>\"]\n",
    "}\n",
    "df=pd.DataFrame(data)\n",
    "\n",
    "pattern = r\"(?i)<url>https?://([a-z0-9_\\.]+)</url>\"\n",
    "\n",
    "\n",
    "\n",
    "\n",
    "\n",
    "def extract_url(device_type):\n",
    "    device_df = df[df[\"Device_Type\"] == device_type]\n",
    "    access_links = device_df[\"Stats_Access_Link\"].str.extract(pattern, expand=False)\n",
    "    return access_links.dropna().unique().tolist()\n",
    "\n",
    "\n",
    "urls = extract_url(\"TRU151\")\n",
    "print(urls)"
   ]
  }
 ],
 "metadata": {
  "kernelspec": {
   "display_name": "Python 3 (ipykernel)",
   "language": "python",
   "name": "python3"
  },
  "language_info": {
   "codemirror_mode": {
    "name": "ipython",
    "version": 3
   },
   "file_extension": ".py",
   "mimetype": "text/x-python",
   "name": "python",
   "nbconvert_exporter": "python",
   "pygments_lexer": "ipython3",
   "version": "3.9.12"
  }
 },
 "nbformat": 4,
 "nbformat_minor": 5
}
